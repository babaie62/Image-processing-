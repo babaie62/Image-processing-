{
  "cells": [
    {
      "cell_type": "markdown",
      "source": [
        "## درس چهارم:\n",
        "##  Keras Functional API\n"
      ],
      "metadata": {
        "id": "GjmkQ_WL7cMY"
      }
    },
    {
      "cell_type": "markdown",
      "source": [
        "در اینجا به جای لایه فولی کانکتت از لایه کاوشنال و از فانکشنال ی پی ای استفاده خواهیم نمود"
      ],
      "metadata": {
        "id": "hIRk9JLX74fD"
      }
    },
    {
      "cell_type": "code",
      "source": [
        "from google.colab import drive\n",
        "drive.mount('/content/drive')  "
      ],
      "metadata": {
        "id": "X5kSrLyLW26a",
        "colab": {
          "base_uri": "https://localhost:8080/"
        },
        "outputId": "d37dd3b7-78e6-4146-c1de-b82a44e2badc"
      },
      "execution_count": 1,
      "outputs": [
        {
          "output_type": "stream",
          "name": "stdout",
          "text": [
            "Mounted at /content/drive\n"
          ]
        }
      ]
    },
    {
      "cell_type": "code",
      "source": [
        "import numpy as np\n",
        "import matplotlib.pyplot as plt\n",
        "from keras.utils import np_utils\n",
        "\n",
        "data=np.load('/content/drive/My Drive/Colab Notebooks/Keras/mnist.npz')"
      ],
      "metadata": {
        "id": "czoeQUAS85Pn"
      },
      "execution_count": 2,
      "outputs": []
    },
    {
      "cell_type": "code",
      "source": [
        "#myModle3.compile(optimizer=SGD(lr=0.001),loss=categorical_crossentropy,metrics=['accuracy'])\n",
        "from tensorflow import keras\n",
        "opt = keras.optimizers.Adam()\n",
        "opt1 = keras.optimizers.SGD(lr=0.001)\n"
      ],
      "metadata": {
        "id": "TXT8Kf36-XQ2",
        "colab": {
          "base_uri": "https://localhost:8080/"
        },
        "outputId": "6d92627a-661b-4718-8074-a20e218bf09e"
      },
      "execution_count": 3,
      "outputs": [
        {
          "output_type": "stream",
          "name": "stderr",
          "text": [
            "/usr/local/lib/python3.7/dist-packages/keras/optimizer_v2/gradient_descent.py:102: UserWarning: The `lr` argument is deprecated, use `learning_rate` instead.\n",
            "  super(SGD, self).__init__(name, **kwargs)\n"
          ]
        }
      ]
    },
    {
      "cell_type": "code",
      "source": [
        "def plot_history2(net_history):\n",
        "  history = net_history.history# برای ساخت دیکشنری\n",
        "  #********************\n",
        "\n",
        "  #*****************\n",
        "  fig, ax = plt.subplots()\n",
        "  accuracy =history ['accuracy']\n",
        "  plt.xlabel('Epochs')\n",
        "  plt.ylabel('Accuracy')\n",
        "  line_up, = ax.plot(accuracy, label='accuracy')\n",
        "  if len(history.keys()) > 2 :\n",
        "    accuracy_val =history ['val_accuracy']\n",
        "    line_down, = ax.plot(accuracy_val, label='accuracy_val')\n",
        "    ax.legend(handles=[line_up, line_down])\n",
        "  plt.figure()\n",
        "  \n",
        "  fig, ax = plt.subplots()\n",
        "  losses =history['loss']\n",
        "  plt.xlabel('Epochs')\n",
        "  plt.ylabel('Loss')\n",
        "  line_up, = ax.plot(losses , label='loss')\n",
        "  if len(history.keys()) > 2 :\n",
        "    losses_val =history['val_loss']\n",
        "    line_down, = ax.plot(losses_val, label='losses_val')\n",
        "    ax.legend(handles=[line_up, line_down])"
      ],
      "metadata": {
        "id": "qXqnF-Bh9YVy"
      },
      "execution_count": 4,
      "outputs": []
    },
    {
      "cell_type": "code",
      "source": [
        "train_images,train_labels=data['x_train'],np.array(data['y_train'])\n",
        "test_images,test_labels=data['x_test'],np.array(data['y_test'])\n",
        "print(\"tarin:\",train_images.shape,\"test_images:\",test_images.shape)"
      ],
      "metadata": {
        "colab": {
          "base_uri": "https://localhost:8080/"
        },
        "id": "qBNA0X319eX9",
        "outputId": "9f87ad1e-8243-413a-ce25-fdf419c7de12"
      },
      "execution_count": 5,
      "outputs": [
        {
          "output_type": "stream",
          "name": "stdout",
          "text": [
            "tarin: (60000, 28, 28) test_images: (10000, 28, 28)\n"
          ]
        }
      ]
    },
    {
      "cell_type": "markdown",
      "source": [
        "# در مدل فولی کانکتت ما داده ها ا به یک وکتور با 784 بعد تبدیل کردیم ولی در لایه کانولوشان داده های ورودی باید به همان شکل تصویر باشد و یعنی همان 28*28 و به همراه یک بعد دیگر یعنی 1 که همان تعداد کانال های ما می باشد و 1 به این علت که تصاویر سایه و سفید می باشد\n",
        "\n",
        "##  دقت گردد در مدل های کانوشنال بعد کانال حتما باید داشته باشند در فولی کانکت ورودی حتما باید وکتور باشد"
      ],
      "metadata": {
        "id": "kUhKlxgHDeK-"
      }
    },
    {
      "cell_type": "code",
      "source": [
        "# X_train=train_images.reshape(60000,28 ,28 ,1) # دستور ریشیپ ابعاد را برای ساخت بردار تعریف می کنسم\n",
        "X_train=train_images.reshape(train_images.shape[0],train_images.shape[1],train_images.shape[2],1)\n",
        "X_train.shape"
      ],
      "metadata": {
        "colab": {
          "base_uri": "https://localhost:8080/"
        },
        "id": "kfdW8ahk9eaz",
        "outputId": "dc8ad204-f0e3-454d-82ee-083413e1bfd2"
      },
      "execution_count": 6,
      "outputs": [
        {
          "output_type": "execute_result",
          "data": {
            "text/plain": [
              "(60000, 28, 28, 1)"
            ]
          },
          "metadata": {},
          "execution_count": 6
        }
      ]
    },
    {
      "cell_type": "code",
      "source": [
        "# X_test=test_images.reshape(10000,28,28,1) # دستور ریشیپ ابعاد را برای ساخت بردار تعریف می کنسم\n",
        "X_test=test_images.reshape(test_images.shape[0],test_images.shape[1],test_images.shape[2],1)\n",
        "X_test.shape"
      ],
      "metadata": {
        "colab": {
          "base_uri": "https://localhost:8080/"
        },
        "id": "OuaRbuJB9Cly",
        "outputId": "607a4f67-4612-4e59-abd3-270fe4cf4f36"
      },
      "execution_count": 7,
      "outputs": [
        {
          "output_type": "execute_result",
          "data": {
            "text/plain": [
              "(10000, 28, 28, 1)"
            ]
          },
          "metadata": {},
          "execution_count": 7
        }
      ]
    },
    {
      "cell_type": "code",
      "source": [
        "X_train=X_train.astype('float32') #(np.float32)\n",
        "X_test=X_test.astype('float32') #(np.float32)\n",
        "X_train=X_train/255\n",
        "X_test=X_test/255\n"
      ],
      "metadata": {
        "id": "HH6yJoFC9vto"
      },
      "execution_count": 8,
      "outputs": []
    },
    {
      "cell_type": "code",
      "source": [
        "from keras.utils import np_utils\n",
        "Y_train = np_utils.to_categorical(train_labels)\n",
        "Y_test = np_utils.to_categorical(test_labels)\n",
        "print('train_labels[2]:',train_labels[2],'\\n','Y_train[2]:',Y_train[2],'\\n','\\n')\n",
        "print('test_labels[2]:','\\n',test_labels[2],'Y_test[2]:',Y_test[2])"
      ],
      "metadata": {
        "colab": {
          "base_uri": "https://localhost:8080/"
        },
        "id": "yL0TgJKcX0_G",
        "outputId": "55ece64e-9e4e-42b8-cf12-a03b53f21b72"
      },
      "execution_count": 9,
      "outputs": [
        {
          "output_type": "stream",
          "name": "stdout",
          "text": [
            "train_labels[2]: 4 \n",
            " Y_train[2]: [0. 0. 0. 0. 1. 0. 0. 0. 0. 0.] \n",
            " \n",
            "\n",
            "test_labels[2]: \n",
            " 1 Y_test[2]: [0. 1. 0. 0. 0. 0. 0. 0. 0. 0.]\n"
          ]
        }
      ]
    },
    {
      "cell_type": "markdown",
      "source": [
        "#### پایان مرحله آماده سازی داده و شروع ساخت مدل"
      ],
      "metadata": {
        "id": "pmhRY7lA9_ev"
      }
    },
    {
      "cell_type": "code",
      "source": [
        "from keras import layers \n",
        "from keras.models import Model\n",
        "import keras"
      ],
      "metadata": {
        "id": "RpCvIi4z9v1H"
      },
      "execution_count": 10,
      "outputs": []
    },
    {
      "cell_type": "code",
      "source": [
        "print('train_images.shape[0]=',train_images.shape[0])\n",
        "print('train_images.shape[1]=',train_images.shape[1])\n",
        "print('train_images.shape[2]=',train_images.shape[2])"
      ],
      "metadata": {
        "colab": {
          "base_uri": "https://localhost:8080/"
        },
        "id": "DFioEjwNJa_1",
        "outputId": "2fffa0eb-c76c-4b7a-c754-21edb75d3a81"
      },
      "execution_count": 11,
      "outputs": [
        {
          "output_type": "stream",
          "name": "stdout",
          "text": [
            "train_images.shape[0]= 60000\n",
            "train_images.shape[1]= 28\n",
            "train_images.shape[2]= 28\n"
          ]
        }
      ]
    },
    {
      "cell_type": "markdown",
      "source": [
        "## در روش فانکشنال در ابتدا به جای ساخت مدل می بایست لایه ها  را ساخت"
      ],
      "metadata": {
        "id": "DCArqgRyHG00"
      }
    },
    {
      "cell_type": "markdown",
      "source": [
        "## ساخت لایه ها\n",
        "# دقت شود برخلاف سکوشنال باید در هر لایه ورودی را به هر لایه معرفی کنیم که ورودی هر لایه خروجی لایه بالاتر می باشد "
      ],
      "metadata": {
        "id": "isIJcJshS-fQ"
      }
    },
    {
      "cell_type": "markdown",
      "source": [
        "#myInput= Input(shape=(28,28,1))\n",
        "myInput1=Input(shape=(train_images.shape[1],train_images.shape[2],1))#shap=(28,28,1) # به عنوان ورودی هم فقط باید سایز یا همان شیپ داده ورودی را بدهیم \n",
        "#  پارامترهای لایه کانوشنال : 1- تعداد فیلترهای که باید در خروجی داشته باشد 2- سایز ویندو 3- تابع اکتیوشن 4- نوع پدینگ\n",
        "# نوع پدینگ یعنی ورودی را پدینگ بکند و بعد کانوشنال را روش اعمال کند تا خروجی هم سایز ورودی باشد و یا اینکه پدینگی وجود نداشته باشد و خروجی یک مقدار از حاشیه ها را نداشته باشد و سایزش کوچکتر باشد \n",
        "conv1=Conv2D(16,(3*3), activation='relu',padding='same')(myInput1)# تعداد  فیلتر 16 و سایز ویندو هم 3*3 البته اگر 3 خالی هم بنویسم خوش ویندو 3*3 در نظر می گیرد و پدینگ را سیم می گداریم تا خروجی همسایز وردی بشود  \n",
        "# اگر پئینگ را از نوع ولید بزاریم خروجی سایزش یک مقدار کوچکتر از وردی می شود\n",
        "pool1= MaxPool2D(pool_size=2)(conv1)# به عنوان پرامتر هم فقط باید پول سایز را بهش بدیم یعنی سایز ویندو پولینگ که معولا 2*2 می گیرند تا سایز داده را نصف کند\n",
        "#pool1= MaxPool2D(pool_size=2,2)\n",
        "# همین دو تا لایه بالایی را یک بار دیگر تکرار می کنم و هرپه سسایز داده کوچتر می شود ما می توانیم تعداد فیلترها را بالاتر ببریم\n"
      ],
      "metadata": {
        "id": "MF0oDbVSnxx8"
      }
    },
    {
      "cell_type": "code",
      "source": [
        "myInput=layers.Input(shape=(train_images.shape[1],train_images.shape[2],1))#(shape=(28,28,1))\n",
        "#conv1=layers.Conv2D(16,3, activation='relu',padding='same')(myInput)\n",
        "conv1=layers.Conv2D(16,3, activation='relu',padding='same', strides=2)(myInput)# به چای پولینگ از استرید یا همان گام استفاده کردم و داده را نصف کردم\n",
        "#pool1= layers.MaxPool2D(pool_size=2)(conv1) \n",
        "conv2=layers.Conv2D(32,(3*3), activation='relu',padding='same', strides=2)(conv1)\n",
        "#conv2=layers.Conv2D(32,(3*3), activation='relu',padding='same')(pool1)\n",
        "#pool2= layers.MaxPool2D(pool_size=2)(conv2)\n",
        "flat= layers.Flatten()(conv2)\n",
        "Out_layer=layers.Dense(10, activation='softmax')(flat)"
      ],
      "metadata": {
        "id": "svY6aoYV_Sya"
      },
      "execution_count": 12,
      "outputs": []
    },
    {
      "cell_type": "markdown",
      "source": [
        "## ساخت مدل"
      ],
      "metadata": {
        "id": "PAlNw4MW2Dc6"
      }
    },
    {
      "cell_type": "code",
      "source": [
        "myModel = Model(myInput, Out_layer)\n",
        "myModel.summary()"
      ],
      "metadata": {
        "colab": {
          "base_uri": "https://localhost:8080/"
        },
        "id": "ca8R_66U39BQ",
        "outputId": "f7076ade-da4c-44b8-95b9-0b5c5e1029c7"
      },
      "execution_count": 13,
      "outputs": [
        {
          "output_type": "stream",
          "name": "stdout",
          "text": [
            "Model: \"model\"\n",
            "_________________________________________________________________\n",
            " Layer (type)                Output Shape              Param #   \n",
            "=================================================================\n",
            " input_1 (InputLayer)        [(None, 28, 28, 1)]       0         \n",
            "                                                                 \n",
            " conv2d (Conv2D)             (None, 14, 14, 16)        160       \n",
            "                                                                 \n",
            " conv2d_1 (Conv2D)           (None, 7, 7, 32)          41504     \n",
            "                                                                 \n",
            " flatten (Flatten)           (None, 1568)              0         \n",
            "                                                                 \n",
            " dense (Dense)               (None, 10)                15690     \n",
            "                                                                 \n",
            "=================================================================\n",
            "Total params: 57,354\n",
            "Trainable params: 57,354\n",
            "Non-trainable params: 0\n",
            "_________________________________________________________________\n"
          ]
        }
      ]
    },
    {
      "cell_type": "code",
      "source": [
        "myModel.compile(optimizer=opt,loss=keras.losses.categorical_crossentropy,metrics=['accuracy'])\n"
      ],
      "metadata": {
        "id": "F4Q2zSgCZu4p"
      },
      "execution_count": 14,
      "outputs": []
    },
    {
      "cell_type": "markdown",
      "source": [
        "## پایان مرحله ساخت مدل و شروع آموزش مدل"
      ],
      "metadata": {
        "id": "6YQxpx3X-fiH"
      }
    },
    {
      "cell_type": "code",
      "source": [
        "nertwork_history3 = myModel.fit(X_train,Y_train,batch_size=128, epochs=20,validation_split=0.2)"
      ],
      "metadata": {
        "id": "cqou5Tix-XTm",
        "colab": {
          "base_uri": "https://localhost:8080/"
        },
        "outputId": "bacdeb76-6f93-404a-e10a-f25ffe4ba523"
      },
      "execution_count": 15,
      "outputs": [
        {
          "output_type": "stream",
          "name": "stdout",
          "text": [
            "Epoch 1/20\n",
            "375/375 [==============================] - 30s 77ms/step - loss: 0.3790 - accuracy: 0.8932 - val_loss: 0.1461 - val_accuracy: 0.9590\n",
            "Epoch 2/20\n",
            "375/375 [==============================] - 30s 80ms/step - loss: 0.1075 - accuracy: 0.9681 - val_loss: 0.0813 - val_accuracy: 0.9755\n",
            "Epoch 3/20\n",
            "375/375 [==============================] - 29s 77ms/step - loss: 0.0681 - accuracy: 0.9802 - val_loss: 0.0713 - val_accuracy: 0.9786\n",
            "Epoch 4/20\n",
            "375/375 [==============================] - 29s 76ms/step - loss: 0.0509 - accuracy: 0.9848 - val_loss: 0.0607 - val_accuracy: 0.9821\n",
            "Epoch 5/20\n",
            "375/375 [==============================] - 29s 77ms/step - loss: 0.0420 - accuracy: 0.9868 - val_loss: 0.0544 - val_accuracy: 0.9837\n",
            "Epoch 6/20\n",
            "375/375 [==============================] - 29s 76ms/step - loss: 0.0332 - accuracy: 0.9900 - val_loss: 0.0588 - val_accuracy: 0.9825\n",
            "Epoch 7/20\n",
            "375/375 [==============================] - 29s 76ms/step - loss: 0.0286 - accuracy: 0.9908 - val_loss: 0.0569 - val_accuracy: 0.9823\n",
            "Epoch 8/20\n",
            "375/375 [==============================] - 29s 77ms/step - loss: 0.0223 - accuracy: 0.9932 - val_loss: 0.0539 - val_accuracy: 0.9843\n",
            "Epoch 9/20\n",
            "375/375 [==============================] - 29s 76ms/step - loss: 0.0176 - accuracy: 0.9942 - val_loss: 0.0580 - val_accuracy: 0.9827\n",
            "Epoch 10/20\n",
            "375/375 [==============================] - 29s 76ms/step - loss: 0.0152 - accuracy: 0.9954 - val_loss: 0.0650 - val_accuracy: 0.9815\n",
            "Epoch 11/20\n",
            "375/375 [==============================] - 29s 76ms/step - loss: 0.0144 - accuracy: 0.9952 - val_loss: 0.0540 - val_accuracy: 0.9837\n",
            "Epoch 12/20\n",
            "375/375 [==============================] - 29s 77ms/step - loss: 0.0095 - accuracy: 0.9972 - val_loss: 0.0566 - val_accuracy: 0.9849\n",
            "Epoch 13/20\n",
            "375/375 [==============================] - 29s 76ms/step - loss: 0.0084 - accuracy: 0.9975 - val_loss: 0.0536 - val_accuracy: 0.9849\n",
            "Epoch 14/20\n",
            "375/375 [==============================] - 29s 76ms/step - loss: 0.0070 - accuracy: 0.9980 - val_loss: 0.0677 - val_accuracy: 0.9830\n",
            "Epoch 15/20\n",
            "375/375 [==============================] - 29s 76ms/step - loss: 0.0068 - accuracy: 0.9982 - val_loss: 0.0642 - val_accuracy: 0.9842\n",
            "Epoch 16/20\n",
            "375/375 [==============================] - 29s 76ms/step - loss: 0.0060 - accuracy: 0.9982 - val_loss: 0.0658 - val_accuracy: 0.9843\n",
            "Epoch 17/20\n",
            "375/375 [==============================] - 29s 76ms/step - loss: 0.0058 - accuracy: 0.9982 - val_loss: 0.0696 - val_accuracy: 0.9843\n",
            "Epoch 18/20\n",
            "375/375 [==============================] - 29s 77ms/step - loss: 0.0036 - accuracy: 0.9988 - val_loss: 0.0616 - val_accuracy: 0.9859\n",
            "Epoch 19/20\n",
            "375/375 [==============================] - 29s 76ms/step - loss: 0.0020 - accuracy: 0.9996 - val_loss: 0.0613 - val_accuracy: 0.9872\n",
            "Epoch 20/20\n",
            "375/375 [==============================] - 29s 77ms/step - loss: 0.0054 - accuracy: 0.9983 - val_loss: 0.0701 - val_accuracy: 0.9832\n"
          ]
        }
      ]
    },
    {
      "cell_type": "code",
      "source": [
        "plot_history2(nertwork_history3)"
      ],
      "metadata": {
        "id": "uMDTADgn-XXX",
        "colab": {
          "base_uri": "https://localhost:8080/",
          "height": 558
        },
        "outputId": "4d3cf887-2df2-40fe-a246-8ae7395b5d46"
      },
      "execution_count": 16,
      "outputs": [
        {
          "output_type": "display_data",
          "data": {
            "text/plain": [
              "<Figure size 432x288 with 1 Axes>"
            ],
            "image/png": "[encoded data removed]"
          },
          "metadata": {
            "needs_background": "light"
          }
        },
        {
          "output_type": "display_data",
          "data": {
            "text/plain": [
              "<Figure size 432x288 with 0 Axes>"
            ]
          },
          "metadata": {}
        },
        {
          "output_type": "display_data",
          "data": {
            "text/plain": [
              "<Figure size 432x288 with 1 Axes>"
            ],
            "image/png": "[encoded data removed]"
          },
          "metadata": {
            "needs_background": "light"
          }
        }
      ]
    },
    {
      "cell_type": "code",
      "source": [
        "test_loss, test_acc = myModel.evaluate(X_test, Y_test)"
      ],
      "metadata": {
        "id": "FbRnKTO99v_K",
        "colab": {
          "base_uri": "https://localhost:8080/"
        },
        "outputId": "240a3bb8-8acf-4952-c3e1-3a5e6d2d4a3e"
      },
      "execution_count": 17,
      "outputs": [
        {
          "output_type": "stream",
          "name": "stdout",
          "text": [
            "313/313 [==============================] - 2s 7ms/step - loss: 0.0573 - accuracy: 0.9860\n"
          ]
        }
      ]
    },
    {
      "cell_type": "code",
      "source": [
        "test_lable_p = myModel.predict(X_test)"
      ],
      "metadata": {
        "id": "xlih1jr9_BCI"
      },
      "execution_count": 18,
      "outputs": []
    },
    {
      "cell_type": "code",
      "source": [
        "import numpy as np \n",
        "test_lable_p = np.argmax(test_lable_p , axis=1,)# اکسیس را مساوی با یک قرار می دهیم یعنی فقط اندیکیس (مکان) ماکسیمم مقدار در هر ردیف افقی را بگیر \n",
        "test_lable_p"
      ],
      "metadata": {
        "id": "NeznMzei_DpY",
        "colab": {
          "base_uri": "https://localhost:8080/"
        },
        "outputId": "e62d1dbc-b1ed-4a80-e7f0-dc59d0533aec"
      },
      "execution_count": 19,
      "outputs": [
        {
          "output_type": "execute_result",
          "data": {
            "text/plain": [
              "array([7, 2, 1, ..., 4, 5, 6])"
            ]
          },
          "metadata": {},
          "execution_count": 19
        }
      ]
    },
    {
      "cell_type": "code",
      "source": [
        "difrent=[]\n",
        "for i in range(0,test_labels.shape[0]):\n",
        "  if test_labels[i] != test_lable_p[i] :\n",
        "    difrent.append(1)\n",
        "print('of 10000:',len(difrent))"
      ],
      "metadata": {
        "id": "VrTK2dCX_In-",
        "colab": {
          "base_uri": "https://localhost:8080/"
        },
        "outputId": "38a8c61d-2bc3-4fb0-a096-72c16a55cfd1"
      },
      "execution_count": 20,
      "outputs": [
        {
          "output_type": "stream",
          "name": "stdout",
          "text": [
            "of 10000: 140\n"
          ]
        }
      ]
    },
    {
      "cell_type": "code",
      "source": [
        "print(test_labels[5])\n",
        "test_lable_p[5]"
      ],
      "metadata": {
        "id": "XoLYy2nm_IrP",
        "colab": {
          "base_uri": "https://localhost:8080/"
        },
        "outputId": "b2dc7ce2-5bb0-41e8-f6f2-657421729c37"
      },
      "execution_count": 21,
      "outputs": [
        {
          "output_type": "stream",
          "name": "stdout",
          "text": [
            "1\n"
          ]
        },
        {
          "output_type": "execute_result",
          "data": {
            "text/plain": [
              "1"
            ]
          },
          "metadata": {},
          "execution_count": 21
        }
      ]
    }
  ],
  "metadata": {
    "colab": {
      "collapsed_sections": [],
      "name": "Keras Functional APIفصل چهارم.ipynb",
      "provenance": []
    },
    "kernelspec": {
      "display_name": "Python 3",
      "name": "python3"
    },
    "language_info": {
      "name": "python"
    }
  },
  "nbformat": 4,
  "nbformat_minor": 0
}